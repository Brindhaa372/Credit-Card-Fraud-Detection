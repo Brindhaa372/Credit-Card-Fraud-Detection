{
  "nbformat": 4,
  "nbformat_minor": 0,
  "metadata": {
    "colab": {
      "provenance": [],
      "toc_visible": true
    },
    "kernelspec": {
      "name": "python3",
      "display_name": "Python 3"
    },
    "language_info": {
      "name": "python"
    }
  },
  "cells": [
    {
      "cell_type": "markdown",
      "source": [
        "Importing the Dependencies"
      ],
      "metadata": {
        "id": "vBpxQLdgavON"
      }
    },
    {
      "cell_type": "code",
      "execution_count": null,
      "metadata": {
        "id": "PjC-xx2487o1"
      },
      "outputs": [],
      "source": [
        "import numpy as np\n",
        "import pandas as pd\n",
        "from sklearn.model_selection import train_test_split\n",
        "from sklearn.linear_model import LogisticRegression\n",
        "from sklearn.metrics import accuracy_score\n",
        "from matplotlib import gridspec"
      ]
    },
    {
      "cell_type": "code",
      "source": [
        "#loading the dataset to a Pandas Dataframe\n",
        "credit_card_data = pd.read_csv('/content/creditcard.csv')"
      ],
      "metadata": {
        "id": "-QHZWcAgbXoX"
      },
      "execution_count": null,
      "outputs": []
    },
    {
      "cell_type": "code",
      "source": [
        "#first 5 rows of the dataset\n",
        "credit_card_data.head()"
      ],
      "metadata": {
        "id": "awDV8_mabrwu"
      },
      "execution_count": null,
      "outputs": []
    },
    {
      "cell_type": "code",
      "source": [
        "credit_card_data.tail()"
      ],
      "metadata": {
        "id": "ruw5Hr2wb3BP"
      },
      "execution_count": null,
      "outputs": []
    },
    {
      "cell_type": "code",
      "source": [
        "#dataset information\n",
        "credit_card_data.info()"
      ],
      "metadata": {
        "id": "PJ_ixl22c3wD"
      },
      "execution_count": null,
      "outputs": []
    },
    {
      "cell_type": "code",
      "source": [
        "credit_card_data.shape\n",
        "credit_card_data.describe()"
      ],
      "metadata": {
        "id": "2ljbMGNT4300"
      },
      "execution_count": null,
      "outputs": []
    },
    {
      "cell_type": "code",
      "source": [
        "#checking the number of missing values\n",
        "credit_card_data.isnull().sum()"
      ],
      "metadata": {
        "id": "XV2YlnwcdFuD"
      },
      "execution_count": null,
      "outputs": []
    },
    {
      "cell_type": "code",
      "source": [
        "#distribution of legit and fraudulent transactions\n",
        "credit_card_data['Class'].value_counts()"
      ],
      "metadata": {
        "id": "NyR7XIOfdyrJ"
      },
      "execution_count": null,
      "outputs": []
    },
    {
      "cell_type": "code",
      "source": [],
      "metadata": {
        "id": "LrewkUP1eLFf"
      },
      "execution_count": null,
      "outputs": []
    },
    {
      "cell_type": "markdown",
      "source": [
        "This Dataset is highly unbalanced\n"
      ],
      "metadata": {
        "id": "lQZVQ6qieWo0"
      }
    },
    {
      "cell_type": "markdown",
      "source": [
        "0----------->Normal Transactions\n",
        "1----------->Fraudulent Transactions"
      ],
      "metadata": {
        "id": "IzZ1o49IedrL"
      }
    },
    {
      "cell_type": "code",
      "source": [
        "#seperating the data for analysis\n",
        "legit=credit_card_data[credit_card_data.Class == 0]\n",
        "fraud=credit_card_data[credit_card_data.Class == 1]\n",
        "fraction = len(fraud)/float(len(legit))"
      ],
      "metadata": {
        "id": "zHvrY6WuecVo"
      },
      "execution_count": null,
      "outputs": []
    },
    {
      "cell_type": "code",
      "source": [
        "print(legit.shape)\n",
        "print(fraud.shape)\n",
        "print(fraction)\n",
        "print('Fraud Cases: {}'.format(len(credit_card_data[credit_card_data['Class']==1])))\n",
        "print('Legit Transactions: {}'.format(len(credit_card_data[credit_card_data['Class']==0])))"
      ],
      "metadata": {
        "id": "gqugvbKPiILb"
      },
      "execution_count": null,
      "outputs": []
    },
    {
      "cell_type": "code",
      "source": [
        "#statistical measures of the data\n",
        "print(\"Amount of Legit Transactions\")\n",
        "legit.Amount.describe()"
      ],
      "metadata": {
        "id": "nSJB3dT4iNx5"
      },
      "execution_count": null,
      "outputs": []
    },
    {
      "cell_type": "code",
      "source": [
        "print(\"Amount of Fraud Transactions\")\n",
        "fraud.Amount.describe()"
      ],
      "metadata": {
        "id": "SxGV0VGYieZM"
      },
      "execution_count": null,
      "outputs": []
    },
    {
      "cell_type": "code",
      "source": [
        "#to calculate and plot correlation\n",
        "import matplotlib.pyplot as plt\n",
        "import seaborn as sns\n",
        "c = credit_card_data.corr()\n",
        "fig = plt.figure(figsize = (13,7))\n",
        "sns.heatmap(c,vmax = 0.5,square = True)\n",
        "plt.show()"
      ],
      "metadata": {
        "id": "PNN-crxN8CGy"
      },
      "execution_count": null,
      "outputs": []
    },
    {
      "cell_type": "code",
      "source": [
        "#compare the values for both transactions\n",
        "credit_card_data.groupby('Class').mean()"
      ],
      "metadata": {
        "id": "A52jOohijR79"
      },
      "execution_count": null,
      "outputs": []
    },
    {
      "cell_type": "markdown",
      "source": [
        "Under Sampling"
      ],
      "metadata": {
        "id": "8VNImnPzj61c"
      }
    },
    {
      "cell_type": "markdown",
      "source": [
        "Build sample dataset containingv similar distributions of normal transactions and fraudulent transactions"
      ],
      "metadata": {
        "id": "vd_dybX9j-mC"
      }
    },
    {
      "cell_type": "markdown",
      "source": [
        "Number of fraudulent transactions is --> 492"
      ],
      "metadata": {
        "id": "6f_UtUcakSIw"
      }
    },
    {
      "cell_type": "code",
      "source": [
        "legit_sample = legit.sample(n=492)"
      ],
      "metadata": {
        "id": "M1VnypSEjsiV"
      },
      "execution_count": null,
      "outputs": []
    },
    {
      "cell_type": "markdown",
      "source": [
        "Concatenating 2 datframes"
      ],
      "metadata": {
        "id": "mg6E76G8klgU"
      }
    },
    {
      "cell_type": "code",
      "source": [
        "new_dataset = pd.concat([legit_sample,fraud],axis=0)"
      ],
      "metadata": {
        "id": "1QG0u7OWki3M"
      },
      "execution_count": null,
      "outputs": []
    },
    {
      "cell_type": "code",
      "source": [
        "new_dataset.head()"
      ],
      "metadata": {
        "id": "XG6mjYLblH2c"
      },
      "execution_count": null,
      "outputs": []
    },
    {
      "cell_type": "code",
      "source": [
        "new_dataset.tail()"
      ],
      "metadata": {
        "id": "IhWBGv3klMGp"
      },
      "execution_count": null,
      "outputs": []
    },
    {
      "cell_type": "code",
      "source": [
        "new_dataset['Class'].value_counts()"
      ],
      "metadata": {
        "id": "EFHyYuKSlU31"
      },
      "execution_count": null,
      "outputs": []
    },
    {
      "cell_type": "code",
      "source": [
        "new_dataset.groupby('Class').mean()"
      ],
      "metadata": {
        "id": "tGwWbN24lhC3"
      },
      "execution_count": null,
      "outputs": []
    },
    {
      "cell_type": "markdown",
      "source": [
        "Splitting the data into Features & Targets"
      ],
      "metadata": {
        "id": "EiMbvPjToKcI"
      }
    },
    {
      "cell_type": "code",
      "source": [
        "x = new_dataset.drop(columns = 'Class',axis = 1)\n",
        "y = new_dataset['Class']"
      ],
      "metadata": {
        "id": "demol7qtn9XA"
      },
      "execution_count": null,
      "outputs": []
    },
    {
      "cell_type": "code",
      "source": [
        "print(x)"
      ],
      "metadata": {
        "id": "6BW3orp_oZOO"
      },
      "execution_count": null,
      "outputs": []
    },
    {
      "cell_type": "code",
      "source": [
        "print(y)"
      ],
      "metadata": {
        "id": "TZCpgcmSome5"
      },
      "execution_count": null,
      "outputs": []
    },
    {
      "cell_type": "markdown",
      "source": [
        "Split the data into Training data and Testing data"
      ],
      "metadata": {
        "id": "djcw7U7GplHE"
      }
    },
    {
      "cell_type": "code",
      "source": [
        "x_train,x_test,y_train,y_test = train_test_split(x,y,test_size=0.2,stratify=y,random_state=3)"
      ],
      "metadata": {
        "id": "Z4ThmhVRpjBM"
      },
      "execution_count": null,
      "outputs": []
    },
    {
      "cell_type": "code",
      "source": [
        "print(x.shape,x_train.shape,x_test.shape)"
      ],
      "metadata": {
        "id": "tkW6fIc5r67-"
      },
      "execution_count": null,
      "outputs": []
    },
    {
      "cell_type": "markdown",
      "source": [
        "Model Training"
      ],
      "metadata": {
        "id": "QPGLz1aVsR3G"
      }
    },
    {
      "cell_type": "markdown",
      "source": [
        "Logistic Regression"
      ],
      "metadata": {
        "id": "qoJWF2g_sXPX"
      }
    },
    {
      "cell_type": "code",
      "source": [
        "model = LogisticRegression()"
      ],
      "metadata": {
        "id": "T8KTzpWksLwS"
      },
      "execution_count": null,
      "outputs": []
    },
    {
      "cell_type": "code",
      "source": [
        "#training the logistic regression model with training data\n",
        "model.fit(x_train,y_train)"
      ],
      "metadata": {
        "id": "f6Ncfs-OsewZ"
      },
      "execution_count": null,
      "outputs": []
    },
    {
      "cell_type": "markdown",
      "source": [
        "Model Evaluation"
      ],
      "metadata": {
        "id": "-_Jj8hJ3tnRi"
      }
    },
    {
      "cell_type": "markdown",
      "source": [
        "Accuracy score"
      ],
      "metadata": {
        "id": "NNGFyjOnts8t"
      }
    },
    {
      "cell_type": "code",
      "source": [
        "#accuracy on training data\n",
        "x_train_prediction = model.predict(x_train)\n",
        "training_data_accuracy = accuracy_score(x_train_prediction,y_train)"
      ],
      "metadata": {
        "id": "cdnCOfoPsuWz"
      },
      "execution_count": null,
      "outputs": []
    },
    {
      "cell_type": "code",
      "source": [
        "print('Accuracy on Training data : ',training_data_accuracy)"
      ],
      "metadata": {
        "id": "6A1p0ClfuGhm"
      },
      "execution_count": null,
      "outputs": []
    },
    {
      "cell_type": "code",
      "source": [
        "#accuracy on test data\n",
        "x_test_prediction = model.predict(x_test)\n",
        "test_data_accuracy = accuracy_score(x_test_prediction,y_test)"
      ],
      "metadata": {
        "id": "BcSrned4wKtC"
      },
      "execution_count": null,
      "outputs": []
    },
    {
      "cell_type": "code",
      "source": [
        "print('accuracy score on Test Data:',test_data_accuracy)"
      ],
      "metadata": {
        "id": "splucVBrzwBA"
      },
      "execution_count": null,
      "outputs": []
    },
    {
      "cell_type": "markdown",
      "source": [
        "for better accuracy of the model"
      ],
      "metadata": {
        "id": "oMvjxnWRAJg5"
      }
    },
    {
      "cell_type": "code",
      "source": [
        "from sklearn.ensemble import RandomForestClassifier\n",
        "r = RandomForestClassifier()\n",
        "r.fit(x_train,y_train)\n",
        "pred = r.predict(x_test)"
      ],
      "metadata": {
        "id": "F2Adfy6A0LHQ"
      },
      "execution_count": null,
      "outputs": []
    },
    {
      "cell_type": "code",
      "source": [
        "from sklearn.metrics import classification_report\n",
        "from sklearn.metrics import precision_score,recall_score\n",
        "from sklearn.metrics import confusion_matrix"
      ],
      "metadata": {
        "id": "eCrV_JoHAsr2"
      },
      "execution_count": null,
      "outputs": []
    },
    {
      "cell_type": "code",
      "source": [
        "print(\"The model used is Random Forest Classifier\")\n",
        "acc  = accuracy_score(y_test,pred)\n",
        "print(\"The accuracy is {}\".format(acc))\n",
        "\n",
        "\n",
        "prec = precision_score(y_test,pred)\n",
        "print(\"The precision is {}\".format(prec))\n",
        "\n",
        "\n",
        "rec = recall_score(y_test,pred)\n",
        "print(\"The recall is {}\".format(rec))\n",
        "\n"
      ],
      "metadata": {
        "id": "B_T_jBsqCp-l"
      },
      "execution_count": null,
      "outputs": []
    },
    {
      "cell_type": "code",
      "source": [
        "LABELS = ['Legit','Fraud']\n",
        "con = confusion_matrix(y_test,pred)\n",
        "plt.figure(figsize =(16,16))\n",
        "sns.heatmap(con,xticklabels = LABELS,yticklabels = LABELS, annot = True,fmt = 'd');\n",
        "plt.title(\"Confusion matrix\")\n",
        "plt.ylabel('True class')\n",
        "plt.xlabel('Predicted class')\n",
        "plt.show()"
      ],
      "metadata": {
        "id": "JC6vtqB5Etgr"
      },
      "execution_count": null,
      "outputs": []
    },
    {
      "cell_type": "code",
      "source": [],
      "metadata": {
        "id": "vgLScsNcMEh7"
      },
      "execution_count": null,
      "outputs": []
    }
  ]
}